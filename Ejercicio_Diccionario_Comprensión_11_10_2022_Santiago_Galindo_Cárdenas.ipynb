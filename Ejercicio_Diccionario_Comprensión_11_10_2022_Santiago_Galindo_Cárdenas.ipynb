{
  "nbformat": 4,
  "nbformat_minor": 0,
  "metadata": {
    "colab": {
      "provenance": [],
      "authorship_tag": "ABX9TyNHQ+fXheG5BLLVOa3AMno+",
      "include_colab_link": true
    },
    "kernelspec": {
      "name": "python3",
      "display_name": "Python 3"
    },
    "language_info": {
      "name": "python"
    }
  },
  "cells": [
    {
      "cell_type": "markdown",
      "metadata": {
        "id": "view-in-github",
        "colab_type": "text"
      },
      "source": [
        "<a href=\"https://colab.research.google.com/github/GALINDO1/2.0PROGCOM-B/blob/main/Ejercicio_Diccionario_Comprensi%C3%B3n_11_10_2022_Santiago_Galindo_C%C3%A1rdenas.ipynb\" target=\"_parent\"><img src=\"https://colab.research.google.com/assets/colab-badge.svg\" alt=\"Open In Colab\"/></a>"
      ]
    },
    {
      "cell_type": "code",
      "execution_count": 41,
      "metadata": {
        "colab": {
          "base_uri": "https://localhost:8080/"
        },
        "id": "8PRpzboHDlHR",
        "outputId": "dfefe835-f9a9-4486-ac41-51eef7c6b2ab"
      },
      "outputs": [
        {
          "output_type": "stream",
          "name": "stdout",
          "text": [
            "{'Andru': 49, 'David': 16, 'Sebas': 35} {'Andres': 45, 'Flowey': 15, 'Cata': 31, 'Karen': 14}\n"
          ]
        }
      ],
      "source": [
        "from typing_extensions import DefaultDict\n",
        "import random\n",
        "cs = [\"Andru\",\"David\",\"Sebas\"] \n",
        "CS =[\"Andres\",\"Flowey\",\"Cata\",\"Karen\"]\n",
        "DD = {cs:random.randint(1,50) for cs in cs}\n",
        "DD1 = {CS:random.randint(1,50) for CS in CS}\n",
        "print(DD,DD1)\n"
      ]
    },
    {
      "cell_type": "code",
      "source": [
        "for x in CS:\n",
        "  print(CS)\n",
        "  print(cs)"
      ],
      "metadata": {
        "id": "OArpe6jpDsPv"
      },
      "execution_count": null,
      "outputs": []
    }
  ]
}