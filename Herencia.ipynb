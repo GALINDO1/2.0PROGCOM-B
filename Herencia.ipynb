{
  "nbformat": 4,
  "nbformat_minor": 0,
  "metadata": {
    "colab": {
      "provenance": [],
      "authorship_tag": "ABX9TyNa1DKSSkEIdBNLg/Hz8uYG",
      "include_colab_link": true
    },
    "kernelspec": {
      "name": "python3",
      "display_name": "Python 3"
    },
    "language_info": {
      "name": "python"
    }
  },
  "cells": [
    {
      "cell_type": "markdown",
      "metadata": {
        "id": "view-in-github",
        "colab_type": "text"
      },
      "source": [
        "<a href=\"https://colab.research.google.com/github/GALINDO1/2.0PROGCOM-B/blob/main/Herencia.ipynb\" target=\"_parent\"><img src=\"https://colab.research.google.com/assets/colab-badge.svg\" alt=\"Open In Colab\"/></a>"
      ]
    },
    {
      "cell_type": "code",
      "execution_count": 5,
      "metadata": {
        "id": "_X8asfqOhGX7"
      },
      "outputs": [],
      "source": [
        "class Humanos:\n",
        "      def __innit__(self,tamaño,genero,clpiel,clcolor,ojos,pesos,rh,cejas):\n",
        "        self.tamaño=tamaño\n",
        "        self.genero=genero\n",
        "        self.clpiel=clpiel #Blanco es el modo facil y negro dificil.\n",
        "        self.clojos=clcolor\n",
        "        self.ojos=ojos\n",
        "        self.peso=pesos\n",
        "        self.rh=rh\n",
        "        self.cejas=cejas\n",
        "      def moverse(self, velocidad):\n",
        "        if velocidad==0:\n",
        "          return str(self, nombre) +\"no se esta moviendo\"\n",
        "        elif velocidad and velocidad<=5:\n",
        "          return str(self, nombre) +\"Esta gatiando\"\n",
        "        elif velocidad and velocidad<=15:\n",
        "          return str(self, nombre) +\"Esta caminando\"\n",
        "        elif velocidad and velocidad<=30:\n",
        "          return str(self, nombre) +\"Esta corriendo\"\n",
        "        elif velocidad and velocidad<=50:\n",
        "          return str(self, nombre) +\"Esta en una bicicleta\"\n",
        "        elif velocidad and velocidad<=60:\n",
        "          return str(self, nombre) +\"Esta en un carro\"\n",
        "        elif velocidad and velocidad<=150:\n",
        "          return str(self, nombre) +\"Esta en un avion\"\n",
        "        elif velocidad and velocidad<=300:\n",
        "          return str(self, nombre)+\"Esta volando\"\n",
        "         vel=int(\"A que velocidad se esta desplazando: \")\n",
        "        nombre=str(input(\"ingrese la sauce: \"))\n",
        "\n",
        "     def trabajos(self,trabajo):\n",
        "     tr=[\"Desempleado\",\"Pandillero\",\"Comentarista\",\"Profesor\",\"Luchador\",\"Medico\"]\n",
        "     if tr[trabajo] in trabajo:\n",
        "      if trabajo==0:\n",
        "        print(self.nombre,\"esta\",tr[trabajo])\n",
        "      else:\n",
        "        print(self.nombre,\"es\",tr[trabajo])\n"
      ]
    },
    {
      "cell_type": "code",
      "source": [
        "    class Sayayin:\n",
        "\n",
        "      def __innit__(self,tamaño,genero,clpiel,clcolor,ojos,pesos,rh,cejas,clcabello,estilo_cabello,colamono):\n",
        "        self.tamaño=tamaño\n",
        "        self.genero=genero\n",
        "        self.clpiel=clpiel #Blanco es el modo facil y negro dificil.\n",
        "        self.clojos=clcolor\n",
        "        self.ojos=ojos\n",
        "        self.peso=pesos\n",
        "        self.rh=rh\n",
        "        self.cejas=cejas\n",
        "        self.clncabello=clcabello\n",
        "        self.cabello_pti=estilo_cabello\n",
        "        True\n",
        "        self.colamono=colamono\n",
        "\n",
        "      def luna(self,luna):\n",
        "    if luna and self.cola_de_mono:\n",
        "      print(self.nombre,\"se va a transformar en mono gigante\")\n",
        "    elif luna and self.cola_de_mono==False:\n",
        "      print(self.nombre,\"no se va a transformar en mono gigante\")\n",
        "    else:\n",
        "      print(self.nombre,\"no se va a transformar en mono gigante\")\n",
        "\n",
        "  def trabajos(self,trabajo):\n",
        "    tr=[\"Esclavo\",\"Mercenario\",\"Pilotos\",\"Luchadores\"]\n",
        "    if tr[trabajo] in trabajo:\n",
        "      if trabajo==0:\n",
        "        print(self.nombre,\"esta\",tr[trabajo])\n",
        "      else:\n",
        "        print(self.nombre,\"es\",tr[trabajo])\n",
        "\n",
        "\n",
        "        \n",
        "      def moverse(self, velocidad):\n",
        "        if velocidad==0:\n",
        "          return str(self, nombre) +\"no se esta moviendo\"\n",
        "        elif velocidad and velocidad<=15:\n",
        "          return str(self, nombre) +\"Esta caminando\"\n",
        "        elif velocidad and velocidad<=60:\n",
        "          return str(self, nombre) +\"Esta corriendo\"\n",
        "\n",
        "        elif velocidad and velocidad<=10000:\n",
        "          return str(self, nombre)+\"Esta volando\"\n",
        "         vel=int(\"A que velocidad se esta desplazando: \")\n",
        "        nombre=str(input(\"ingrese la sauce: \"))"
      ],
      "metadata": {
        "id": "f1CnLp7JsvJ7"
      },
      "execution_count": null,
      "outputs": []
    },
    {
      "cell_type": "code",
      "source": [
        "class Hibridos(Sayayin,Humanos):\n",
        "  pass"
      ],
      "metadata": {
        "id": "3B78HSHevDRT"
      },
      "execution_count": null,
      "outputs": []
    },
    {
      "cell_type": "code",
      "source": [
        "gohan=Hibridos(2,\"largo\",1,2,1,32,1,320,2,2,80,1.80,\"Hombre\",1,2,2,2,2,2,\"Gohan\")\n"
      ],
      "metadata": {
        "id": "KQ1lwhjoxm1-"
      },
      "execution_count": null,
      "outputs": []
    },
    {
      "cell_type": "code",
      "source": [
        "Gohan.luna(True)"
      ],
      "metadata": {
        "id": "7IWTHjttxofd"
      },
      "execution_count": null,
      "outputs": []
    }
  ]
}