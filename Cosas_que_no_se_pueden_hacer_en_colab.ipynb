{
  "nbformat": 4,
  "nbformat_minor": 0,
  "metadata": {
    "colab": {
      "provenance": [],
      "authorship_tag": "ABX9TyN62J7gGvsQBRewROvI70Tj",
      "include_colab_link": true
    },
    "kernelspec": {
      "name": "python3",
      "display_name": "Python 3"
    },
    "language_info": {
      "name": "python"
    }
  },
  "cells": [
    {
      "cell_type": "markdown",
      "metadata": {
        "id": "view-in-github",
        "colab_type": "text"
      },
      "source": [
        "<a href=\"https://colab.research.google.com/github/GALINDO1/2.0PROGCOM-B/blob/main/Cosas_que_no_se_pueden_hacer_en_colab.ipynb\" target=\"_parent\"><img src=\"https://colab.research.google.com/assets/colab-badge.svg\" alt=\"Open In Colab\"/></a>"
      ]
    },
    {
      "cell_type": "markdown",
      "source": [
        "**¿Que cosas no se pueden hacer en coloab?**"
      ],
      "metadata": {
        "id": "ps9FUUuv03q_"
      }
    },
    {
      "cell_type": "markdown",
      "source": [
        "1. No se puede hostear archivos multimedia o oferta de servicios web que no esten relacionadas con colab.\n",
        "\n",
        "2. Usar un escritorio remoto o SSH.\n",
        "\n",
        "3. Minar criptomonedas.\n",
        "\n",
        "4. Descargar torrents o compartir archivos de punto a punto.\n",
        "\n",
        "5. Craquear contraseñas.\n",
        "\n",
        "6. Trabajar e importar librerias como tkinter.\n",
        "\n",
        "7. Ejecutar archivos py diractamente desde colab.\n",
        "\n",
        "8. Crear ultrafalsos.\n",
        "\n",
        "9. Ya no permite el uso de Python 2.\n",
        "\n",
        "10. No se pude hacer sitios wed.\n",
        "\n",
        "11. Usar varias cuentas para eludir las restricciones de acceso o de uso de recursos.\n",
        "\n",
        "12. Ejecutar ataques de denegación de servicio\n",
        "\n",
        "13. Colab no proporciona una función de almacenamiento datos persistente.\n",
        "\n",
        "14. No cuenta con una programacion en bloc de notas.\n",
        "\n",
        "15. Colab no cuenta con visor de datos.\n",
        "\n",
        "16. No deja conectarse a proxies remotos.\n",
        "\n",
        "17. Hay limite de tiempo en 12 horas.\n",
        "\n",
        "18. No hay soporte para editores colaborativos.\n",
        "\n",
        "19. No tiene soporte de entorno virtual ni tampoco admine tilizar venvs de forma nativa,\n",
        "\n",
        "20. Cuenta con limite de uso de GPU por sesión"
      ],
      "metadata": {
        "id": "U9oGWT_P1fw_"
      }
    }
  ]
}