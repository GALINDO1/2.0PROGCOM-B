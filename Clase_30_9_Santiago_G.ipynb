{
  "nbformat": 4,
  "nbformat_minor": 0,
  "metadata": {
    "colab": {
      "provenance": [],
      "authorship_tag": "ABX9TyNGijDUfbsDd8/uQ+QFiWWW",
      "include_colab_link": true
    },
    "kernelspec": {
      "name": "python3",
      "display_name": "Python 3"
    },
    "language_info": {
      "name": "python"
    }
  },
  "cells": [
    {
      "cell_type": "markdown",
      "metadata": {
        "id": "view-in-github",
        "colab_type": "text"
      },
      "source": [
        "<a href=\"https://colab.research.google.com/github/GALINDO1/2.0PROGCOM-B/blob/main/Clase_30_9_Santiago_G.ipynb\" target=\"_parent\"><img src=\"https://colab.research.google.com/assets/colab-badge.svg\" alt=\"Open In Colab\"/></a>"
      ]
    },
    {
      "cell_type": "markdown",
      "source": [
        "**Funciones con nombre**"
      ],
      "metadata": {
        "id": "ydl64PyIDKht"
      }
    },
    {
      "cell_type": "code",
      "execution_count": null,
      "metadata": {
        "id": "lYdZpoLo_GJH"
      },
      "outputs": [],
      "source": [
        " def nombre_funcion (argumento):\n",
        "  codigo\n",
        "  return retorno"
      ]
    },
    {
      "cell_type": "markdown",
      "source": [
        "**Define la funcion con argumenos**"
      ],
      "metadata": {
        "id": "EQ7ILP0fDQ8v"
      }
    },
    {
      "cell_type": "code",
      "source": [
        "def  multiplica_por_5(numero):\n",
        "  print (f'[numero]*5=[numero*5]')\n",
        "\n",
        "print('Comienzo del programa')\n",
        "multiplica_por_5(7)\n",
        "print('Siguiene')\n",
        "multiplica_por_5(113)\n",
        "print('Fin')"
      ],
      "metadata": {
        "id": "GfkLT5fBDf2M"
      },
      "execution_count": null,
      "outputs": []
    },
    {
      "cell_type": "code",
      "source": [
        "def verificar (correo, contraseña):\n",
        "  if(correo==\"sgalindo@unab.edu.co\" and contraseña==\"1234\"):\n",
        "    return True \n",
        "  else False\n",
        "\n",
        "  def"
      ],
      "metadata": {
        "id": "zVrHrkwUMD_e"
      },
      "execution_count": null,
      "outputs": []
    },
    {
      "cell_type": "markdown",
      "source": [
        "**Taller**"
      ],
      "metadata": {
        "id": "5V4P3V4RI9Y4"
      }
    },
    {
      "cell_type": "code",
      "source": [
        "#La función \"calcularEdad\" calcula la edad de una persona\n",
        "def calcularEdad (añoActual, añoDeNacimiento):     \n",
        "  edad=añoActual-añoDeNacimiento\n",
        "  return edad\n",
        "\n",
        "añoActual=int(input())\n",
        "añoDeNacimiento=int(input())\n",
        " \n",
        "calcularEdad(añoActual, añoDeNacimiento)\n",
        "\n",
        "\n"
      ],
      "metadata": {
        "colab": {
          "base_uri": "https://localhost:8080/"
        },
        "id": "V2Wb3WkPNyOm",
        "outputId": "5db712fa-c677-4689-b3aa-256db1c2b04e"
      },
      "execution_count": 59,
      "outputs": [
        {
          "name": "stdout",
          "output_type": "stream",
          "text": [
            "2022\n",
            "2003\n"
          ]
        },
        {
          "output_type": "execute_result",
          "data": {
            "text/plain": [
              "19"
            ]
          },
          "metadata": {},
          "execution_count": 59
        }
      ]
    },
    {
      "cell_type": "code",
      "source": [
        "#La función \"informacionPersonal\" recoge la información personal de una persona\n",
        "def informacionPersonal ():\n",
        "    name=input()\n",
        "    age=input()\n",
        "    country=input()\n",
        "    A=name + \", de \" + country + \", tiene \" +str(age)+\" años de edad.\"\n",
        "    return A\n",
        "informacionPersonal()\n"
      ],
      "metadata": {
        "colab": {
          "base_uri": "https://localhost:8080/",
          "height": 87
        },
        "id": "oB5xPakTSgJY",
        "outputId": "1b71733f-f5e5-4cf4-f11b-9f1d286d077d"
      },
      "execution_count": 63,
      "outputs": [
        {
          "name": "stdout",
          "output_type": "stream",
          "text": [
            "Diana\n",
            "20\n",
            "France\n"
          ]
        },
        {
          "output_type": "execute_result",
          "data": {
            "text/plain": [
              "'Diana, de France, tiene 20 años de edad.'"
            ],
            "application/vnd.google.colaboratory.intrinsic+json": {
              "type": "string"
            }
          },
          "metadata": {},
          "execution_count": 63
        }
      ]
    }
  ]
}