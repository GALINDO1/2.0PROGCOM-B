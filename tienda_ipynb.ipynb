{
  "nbformat": 4,
  "nbformat_minor": 0,
  "metadata": {
    "colab": {
      "provenance": [],
      "authorship_tag": "ABX9TyNQCzUq6SytjxgmAhrWTDWI",
      "include_colab_link": true
    },
    "kernelspec": {
      "name": "python3",
      "display_name": "Python 3"
    },
    "language_info": {
      "name": "python"
    }
  },
  "cells": [
    {
      "cell_type": "markdown",
      "metadata": {
        "id": "view-in-github",
        "colab_type": "text"
      },
      "source": [
        "<a href=\"https://colab.research.google.com/github/GALINDO1/2.0PROGCOM-B/blob/main/tienda_ipynb.ipynb\" target=\"_parent\"><img src=\"https://colab.research.google.com/assets/colab-badge.svg\" alt=\"Open In Colab\"/></a>"
      ]
    },
    {
      "cell_type": "code",
      "execution_count": null,
      "metadata": {
        "id": "VRueixQd1hOC"
      },
      "outputs": [],
      "source": [
        "from IPython.core.interactiveshell import InteractiveShellABC\n",
        "\n",
        "class Producto():\n",
        "  def __init__(self,producto,precio,unidad):\n",
        "    self.producto=producto\n",
        "    self.precio=precio\n",
        "    self.unidad=unidad\n",
        "\n",
        "class Car():\n",
        "   def __init__(self,lista=[]):\n",
        "     self.lista=[]\n",
        "   def carro(self,a):\n",
        "     for b in self.lista:\n",
        "       if b.producto==a.producto:\n",
        "         self.lista.remove(b)\n",
        "     self.lista.append(a)\n",
        "   def revisar(self):\n",
        "     tot=0\n",
        "     for a in self.lista:\n",
        "       print(f\"{a.producto} x{a.unidad} valor: ${a.precio} por unidad\")  \n",
        "       tot=tot+a.precio*a.unidad\n",
        "     print(f\"Total: {tot}\")\n",
        "     return tot\n",
        "class Factura(Car):\n",
        "  def factura(self,copra1,c):\n",
        "    print(\"***FACTURA***\")\n",
        "    tot=compra1.revisar()\n",
        "    print(\"///El IVA es del 19% /// *Te roban*\")\n",
        "    if c%50==0:\n",
        "      print(f\"Eres el cliente {c} Has ganado un 3% de descuento\")\n",
        "      tot=tot*0.97\n",
        "    print(f\"Total : {round(tot*1.19,2)}\")\n",
        "prod={\"latte\":3,\"capuccino\":2,\"espresso Americano\":3,\"frappe\":5,\"croissant\":3,\"hojaldra\":3.5,\"brazo de reina\":1.5,\"sandwich\":5}\n",
        "Leches={\"leche de vaca\":2,\"leche de cabra\":2.5,\"leche en polvo\":0.5,\"leche de cococabra\":50}\n",
        "Tamaños={\"pequeña\":0.8,\"normal\":1,\"grande\":1.2}\n",
        "p=\"a\"\n",
        "total=0\n",
        "gan=0\n",
        "c=0\n",
        "t=None\n",
        "tam=\"a\"\n",
        "o=\"s\"\n",
        "dia=\"s\"\n",
        "while dia.lower()[0]==\"s\":\n",
        " c=c+1\n",
        " compra1=Car()\n",
        " print(\"Bienvenido a Starbuck\")\n",
        " while o.lower()[0]!=\"n\":\n",
        "  if o.lower()==\"revisar\":\n",
        "    compra1.revisar()\n",
        "  else:\n",
        "   p=\"a\"\n",
        "   t=\"a\"\n",
        "   tam=\"a\"\n",
        "   while (p.lower() in prod)==False:\n",
        "    p=input(\"\\nMENU\\n\\nBEBIDAS                COMIDA\\nLatte  $3              Croissant  $3\\nCapuccino  $2          Hojaldra  $3.5\\nEspresso Americano  $3 Brazo de reina  $1.5 \\nFrappe  $5             Sandwich  $5\\n¿Que desea llevar? :) = \")\n",
        "    if (p.lower() in prod)==False:\n",
        "      print(\"Por favor pida otra cosa, no tenemos este producrto disponible :c\")\n",
        "   cash=prod[p.lower()]\n",
        "   if p.lower()==\"latte\" or p.lower()==\"capuccino\" or p.lower()==\"espresso americano\" or p.lower()==\"frappe\":\n",
        "     while (t.lower() in Leches)==False:\n",
        "      t=input(\"Leches:\\nLeche de vaca $2\\nleche de cabra $2.5\\nleche en polvo $0.5\\nleche de cococabra $50\\n¿Qué leche desea en su bebida?: \")\n",
        "      if (t.lower() in Leches)==False:\n",
        "       print(\"Por favor pida otra cosa, no tenemos este producrto disponible :c\")\n",
        "     while (tam.lower() in Tamaños)==False:\n",
        "      tam=input(\"Pequeña\\nNormal\\nGrande\\n¿De qué tamaño quiere su bebida?:\")\n",
        "      if (tam.lower() in Tamaños)==False:\n",
        "       print(\"Por favor pida otra tamaño, no tenemos el tamaño que pide disponible :c\")\n",
        "     cash=(cash+Leches[t.lower()])*Tamaños[tam.lower()]\n",
        "     p=p+\" con \"+t+\" de tamaño \"+tam\n",
        "   print(f\"{p}: ${round(cash,2)}\")\n",
        "   n=int(input(f\"¿Cuantos {p} quiere?: \"))\n",
        "   compra=Producto(p.capitalize(),cash,n)\n",
        "   compra1.carro(compra)\n",
        "  o=input(\"¿Quiere comprar algo mas?\")\n",
        " factura=Factura(compra1)\n",
        " factura.factura(compra1,c)\n",
        " for z in compra1.lista:\n",
        "   total=total+z.unidad*z.precio\n",
        " gan=gan+total\n",
        " dia=input(\"¿Mas clientes?\")\n",
        "print(f\"Las ganancias del día son {gan}\")\n",
        "print(f\"Los 'impuestos' de hoy son: {gan*0.19}\")\n"
      ]
    }
  ]
}