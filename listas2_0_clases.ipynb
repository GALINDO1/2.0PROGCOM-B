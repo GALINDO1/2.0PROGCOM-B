{
  "nbformat": 4,
  "nbformat_minor": 0,
  "metadata": {
    "colab": {
      "provenance": [],
      "authorship_tag": "ABX9TyNTAWJc5+ImsFpb6P84GXIu",
      "include_colab_link": true
    },
    "kernelspec": {
      "name": "python3",
      "display_name": "Python 3"
    },
    "language_info": {
      "name": "python"
    }
  },
  "cells": [
    {
      "cell_type": "markdown",
      "metadata": {
        "id": "view-in-github",
        "colab_type": "text"
      },
      "source": [
        "<a href=\"https://colab.research.google.com/github/GALINDO1/2.0PROGCOM-B/blob/main/listas2_0_clases.ipynb\" target=\"_parent\"><img src=\"https://colab.research.google.com/assets/colab-badge.svg\" alt=\"Open In Colab\"/></a>"
      ]
    },
    {
      "cell_type": "code",
      "execution_count": null,
      "metadata": {
        "colab": {
          "base_uri": "https://localhost:8080/"
        },
        "id": "-QEnIHk5mPR1",
        "outputId": "91b69776-e5eb-43f2-e020-4ac24d157ab7"
      },
      "outputs": [
        {
          "output_type": "stream",
          "name": "stdout",
          "text": [
            "[1545, 1949, 1996]\n"
          ]
        }
      ],
      "source": [
        "#metodo clasico by juandivox\n",
        "\n",
        "import random\n",
        "numero1=[random.randint(0,2000) for x in range(100)]\n",
        "numero2=[random.randint(0,2000) for x in range(100)]\n",
        "comun=[]\n",
        "for a in numero1:\n",
        "  for b in numero2:\n",
        "    if a==b:\n",
        "     comun.append(a)\n",
        "print(comun)"
      ]
    },
    {
      "cell_type": "code",
      "source": [
        "#metodo comprensión by juandivox\n",
        "import random\n",
        "numero1=[random.randint(0,2000) for x in range(100)]\n",
        "numero2=[random.randint(0,2000) for x in range(100)]\n",
        "comun=[x for x in numero1 for y in numero2 if x==y]\n",
        "print(comun)"
      ],
      "metadata": {
        "id": "-7aPvvs9qvKN"
      },
      "execution_count": null,
      "outputs": []
    },
    {
      "cell_type": "code",
      "source": [
        "#metodo lamba y filtre by juandivox\n",
        "import random\n",
        "numero1=[random.randint(0,2000) for x in range(100)]\n",
        "numero2=[random.randint(0,2000) for x in range(100)]\n",
        "comun=[]\n",
        "comun=list(filter(lambda num:num in numero1,numero2))\n",
        "print(comun)"
      ],
      "metadata": {
        "id": "CzoWXfk1rWze"
      },
      "execution_count": null,
      "outputs": []
    },
    {
      "cell_type": "markdown",
      "source": [
        "9."
      ],
      "metadata": {
        "id": "2QbBdYp1sqYB"
      }
    },
    {
      "cell_type": "code",
      "source": [
        "#lambda\n",
        "lambda_func=lambda x: x**2\n",
        "lambda_func(3)\n"
      ],
      "metadata": {
        "id": "jjLH2awMtIvs"
      },
      "execution_count": null,
      "outputs": []
    },
    {
      "cell_type": "code",
      "source": [
        "#tradicional \n",
        "def squered(num):\n",
        "  return num**2\n",
        "print(squered(5))"
      ],
      "metadata": {
        "id": "uQzXgtAotteH"
      },
      "execution_count": null,
      "outputs": []
    },
    {
      "cell_type": "code",
      "source": [
        "#comprensión \n",
        "l=[1,2,3,4]\n",
        "l2=[n**2 for n in l]\n",
        "print(l2)"
      ],
      "metadata": {
        "id": "f-cA7QmPuIGI"
      },
      "execution_count": null,
      "outputs": []
    },
    {
      "cell_type": "markdown",
      "source": [
        "3"
      ],
      "metadata": {
        "id": "Yj8cz_T1uvnf"
      }
    },
    {
      "cell_type": "code",
      "source": [
        "#por compresión\n",
        "nom1=[\"Samuelle\",\"Angie\",\"Valentina\",\"Alejandro\",\"Jonsito\"]\n",
        "nom2=[\"Samuelle\",\"Andrea\",\"Samdra \",\"Anderson\",\"Jonsito\"]\n",
        "common={a for a in nom1 for b in nom2 if a==b}\n",
        "common"
      ],
      "metadata": {
        "colab": {
          "base_uri": "https://localhost:8080/"
        },
        "id": "hBDZQxS5u3Z_",
        "outputId": "ed0f3406-9543-40d8-c63c-cbc6c3fc24bd"
      },
      "execution_count": null,
      "outputs": [
        {
          "output_type": "execute_result",
          "data": {
            "text/plain": [
              "{'Jonsito', 'Samuelle'}"
            ]
          },
          "metadata": {},
          "execution_count": 13
        }
      ]
    },
    {
      "cell_type": "code",
      "source": [
        "nom1=[\"Samuelle\",\"Angie\",\"Valentina\",\"Alejandro\",\"Jonsito\"]\n",
        "nom2=[\"Samuelle\",\"Andrea\",\"Samdra \",\"Anderson\",\"Jonsito\"]\n",
        "comon1=lambda nom1,nom2:common\n",
        "print(comon1(nom1,nom2))"
      ],
      "metadata": {
        "id": "424NWR74vfYg"
      },
      "execution_count": null,
      "outputs": []
    },
    {
      "cell_type": "code",
      "source": [
        "#por def\n",
        "def camnon(nom1,nom2):\n",
        "  return nom1,nom2\n",
        "nom1,nom2"
      ],
      "metadata": {
        "id": "1vZru_2DxMUm"
      },
      "execution_count": null,
      "outputs": []
    },
    {
      "cell_type": "markdown",
      "source": [
        "3."
      ],
      "metadata": {
        "id": "N6LWfmCextit"
      }
    },
    {
      "cell_type": "code",
      "source": [
        "#tradicional \n",
        "def listaIMC(usuario):\n",
        "  sis=[]\n",
        "  imc=[]\n",
        "  b=0\n",
        "  a2=0\n",
        "  for n in range (usuario):\n",
        "    w=input(\"¿Cúal es tu numero?:\")\n",
        "    b=int(input(\"ingrese el peso?:\"))\n",
        "    a2=int(input(\"ingrese la altura?: \"))\n",
        "    sis.append((w,b/a2**2))\n",
        "    imc.append(b/a2**2)\n",
        "  return sis, imc\n",
        "\n",
        "user=int(input(\"¿cuantos usuarios hay?\"))\n",
        "\n",
        "sis,imc=listaIMC(user)"
      ],
      "metadata": {
        "colab": {
          "base_uri": "https://localhost:8080/"
        },
        "id": "Lmp4gTq0xupF",
        "outputId": "6dadb9b4-3b6b-4c96-f40f-fefe504f44f5"
      },
      "execution_count": null,
      "outputs": [
        {
          "name": "stdout",
          "output_type": "stream",
          "text": [
            "¿cuantos usuarios hay?1\n",
            "¿Cúal es tu numero?:23\n",
            "ingrese el peso?:50\n",
            "ingrese la altura?: 165\n"
          ]
        }
      ]
    },
    {
      "cell_type": "code",
      "source": [
        "#compresión\n",
        "sis=listaIMC(user)\n",
        "sis2=[n for n in imc if n>=18.5]\n",
        "print(sis2)"
      ],
      "metadata": {
        "colab": {
          "base_uri": "https://localhost:8080/"
        },
        "id": "GAWxFNJv0QoP",
        "outputId": "5b6b56e6-d4f2-4107-ab8c-e5972fa02458"
      },
      "execution_count": null,
      "outputs": [
        {
          "output_type": "stream",
          "name": "stdout",
          "text": [
            "¿Cúal es tu numero?:23\n",
            "ingrese el peso?:50\n",
            "ingrese la altura?: 165\n",
            "[]\n"
          ]
        }
      ]
    },
    {
      "cell_type": "code",
      "source": [
        "#lambda\n",
        "sis3=list(map(lambda x:\"peso insuficiente\" if x<18.5 else \"peso normal\" if (x>=24.9 and x<30)else \"obesidad\",imc))\n",
        "sis3"
      ],
      "metadata": {
        "colab": {
          "base_uri": "https://localhost:8080/"
        },
        "id": "2rg4zemg1VIr",
        "outputId": "1a85fb9d-526e-4ee2-b498-881db802d597"
      },
      "execution_count": null,
      "outputs": [
        {
          "output_type": "execute_result",
          "data": {
            "text/plain": [
              "['peso insuficiente']"
            ]
          },
          "metadata": {},
          "execution_count": 45
        }
      ]
    },
    {
      "cell_type": "markdown",
      "source": [
        "4."
      ],
      "metadata": {
        "id": "fGkEV_kX2y6f"
      }
    },
    {
      "cell_type": "code",
      "source": [
        "#normal\n",
        "print(\"Ingresa su código: \")\n",
        "caracter=input()\n",
        "if len(caracter)==8:\n",
        "  if caracter[0]=='u':\n",
        "    print(\"Eres estudiante de la Unab\")\n",
        "  elif(caracter.starswith(\"a000\")):\n",
        "    print(\"Eres estudiante de los Andes\")\n",
        "  else:\n",
        "    if(int(caracter)>=1950):\n",
        "      print(\"Eres estudiante de la UIS\")\n",
        "else:\n",
        "  print(\"No corresponde a ninguna universidad, revisa tu código\")"
      ],
      "metadata": {
        "id": "UZq4TrPK4Kzk"
      },
      "execution_count": null,
      "outputs": []
    },
    {
      "cell_type": "markdown",
      "source": [
        "5."
      ],
      "metadata": {
        "id": "QPj5YLE45eyq"
      }
    },
    {
      "cell_type": "code",
      "source": [],
      "metadata": {
        "id": "nozhl22a5fin"
      },
      "execution_count": null,
      "outputs": []
    }
  ]
}