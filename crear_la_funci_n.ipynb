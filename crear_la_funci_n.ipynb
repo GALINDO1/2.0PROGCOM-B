{
  "nbformat": 4,
  "nbformat_minor": 0,
  "metadata": {
    "colab": {
      "provenance": [],
      "authorship_tag": "ABX9TyMqjlRkDnDp1/mtt80Hdxhw",
      "include_colab_link": true
    },
    "kernelspec": {
      "name": "python3",
      "display_name": "Python 3"
    },
    "language_info": {
      "name": "python"
    }
  },
  "cells": [
    {
      "cell_type": "markdown",
      "metadata": {
        "id": "view-in-github",
        "colab_type": "text"
      },
      "source": [
        "<a href=\"https://colab.research.google.com/github/GALINDO1/2.0PROGCOM-B/blob/main/crear_la_funci_n.ipynb\" target=\"_parent\"><img src=\"https://colab.research.google.com/assets/colab-badge.svg\" alt=\"Open In Colab\"/></a>"
      ]
    },
    {
      "cell_type": "code",
      "execution_count": null,
      "metadata": {
        "id": "YcIHe3VTZfUV",
        "colab": {
          "base_uri": "https://localhost:8080/"
        },
        "outputId": "eb2196d6-85c7-4b44-ebff-5efb4cd4c459"
      },
      "outputs": [
        {
          "output_type": "stream",
          "name": "stdout",
          "text": [
            "Digite un numero: 3\n",
            "Digite un numero: 2\n",
            "El primer numero es meyor:\n"
          ]
        }
      ],
      "source": [
        "#Taller 1\n",
        "c=float(input(\"Digite un numero: \"))\n",
        "b=float(input(\"Digite un numero: \"))\n",
        "def mayor_que(b,c):\n",
        "  if b>c:\n",
        "    print(\"El primer numero es mayor\")\n",
        "  else :\n",
        "    print(\"El segundo numero es mayor es mayor\")\n",
        "mayor_que(c,b)\n",
        "\n"
      ]
    },
    {
      "cell_type": "code",
      "source": [
        "#Taller 2\n",
        "#Taller Funcion 1\n",
        "c=float(input(\"Digite un numero: \"))\n",
        "b=float(input(\"Digite un numero: \"))\n",
        "a=float(input(\"Digite un numero: \"))\n",
        "\n",
        "def mayor_que(a,b,c):\n",
        "  if b>c or a>c:\n",
        "    print(\"El primer numero es meyor\")\n",
        "  if c>b or a>b:\n",
        "    print(\"El segundo numero es mayor \")\n",
        "  else:\n",
        "     print(\"El tercer numero es mayor \")\n",
        "mayor_que(a,c,b)\n"
      ],
      "metadata": {
        "id": "DKF6mw5deSq_"
      },
      "execution_count": null,
      "outputs": []
    },
    {
      "cell_type": "code",
      "source": [
        "#Taller 3\n",
        "c=float(input(\"Digite un numero: \"))\n",
        "b=float(input(\"Digite un numero: \"))\n",
        "a=float(input(\"Digite un numero: \"))\n",
        "list=[c,b,a]\n",
        "def sumarl(A):\n",
        "  E=[c+b+a]\n",
        "  print(f\"La suma de la lista da: {E}\")\n",
        "\n",
        "sumarl(list)\n"
      ],
      "metadata": {
        "colab": {
          "base_uri": "https://localhost:8080/"
        },
        "id": "SwCXGjjLg84U",
        "outputId": "d8fb3bd2-8c29-40bf-c116-39c51f8dda50"
      },
      "execution_count": null,
      "outputs": [
        {
          "output_type": "stream",
          "name": "stdout",
          "text": [
            "Digite un numero: 3\n",
            "Digite un numero: 3\n",
            "Digite un numero: 3\n",
            "La suma de la lista da: [9.0]\n"
          ]
        }
      ]
    },
    {
      "cell_type": "code",
      "source": [
        "#Taller 4\n",
        "c=float(input(\"Digite un numero: \"))\n",
        "b=float(input(\"Digite un numero: \"))\n",
        "a=float(input(\"Digite un numero: \"))\n",
        "i=float(input(\"Digite un numero: \"))\n",
        "list=[c,b,a,i]\n",
        "def sumarl(A):\n",
        "  E=[c+b+a+i]\n",
        "  print(f\"La suma de la lista da: {E}\")\n",
        "\n",
        "sumarl(list)"
      ],
      "metadata": {
        "id": "ii9aVmwDk2Go"
      },
      "execution_count": null,
      "outputs": []
    },
    {
      "cell_type": "code",
      "source": [
        "#Taller 5\n",
        "c=int(input(\"Ingresa la cantida de numeros: \"))\n",
        "def sumarl(A):\n",
        "  lista=[]\n",
        "  S=0\n",
        "  for i in range(0,A):\n",
        "    replica=int(input(\"Ingresa la cantida de numeros: \"))\n",
        "    lista.append(replica)\n",
        "    S=S+lista[i]\n",
        "    print(lista)\n",
        "  print(\"Da el resultado\", S)\n",
        "sumarl(c)"
      ],
      "metadata": {
        "colab": {
          "base_uri": "https://localhost:8080/"
        },
        "id": "bboJ4fDomCsn",
        "outputId": "086d6a53-e443-4413-e3b2-cb0c094c0d49"
      },
      "execution_count": null,
      "outputs": [
        {
          "output_type": "stream",
          "name": "stdout",
          "text": [
            "Ingresa la cantida de numeros: 5\n",
            "Ingresa la cantida de numeros: 3\n",
            "[3]\n",
            "Ingresa la cantida de numeros: 5\n",
            "[3, 5]\n",
            "Ingresa la cantida de numeros: 3\n",
            "[3, 5, 3]\n",
            "Ingresa la cantida de numeros: 4\n",
            "[3, 5, 3, 4]\n",
            "Ingresa la cantida de numeros: 5\n",
            "[3, 5, 3, 4, 5]\n",
            "Da el resultado 20\n"
          ]
        }
      ]
    },
    {
      "cell_type": "code",
      "source": [
        "#Taller 6\n",
        "c=float(input(\"Digite un numero: \"))\n",
        "b=float(input(\"Digite un numero: \"))\n",
        "a=float(input(\"Digite un numero: \"))\n",
        "list=[c,b,a]\n",
        "def sumarl(A):\n",
        "  E=[c*b*a]\n",
        "  print(f\"La multiplicación de la lista da: {E}\")\n",
        "\n",
        "sumarl(list)"
      ],
      "metadata": {
        "colab": {
          "base_uri": "https://localhost:8080/"
        },
        "id": "BFlm-9qLlTQ3",
        "outputId": "b54636d7-455b-4daa-f544-b1200d6f4545"
      },
      "execution_count": null,
      "outputs": [
        {
          "output_type": "stream",
          "name": "stdout",
          "text": [
            "Digite un numero: 3\n",
            "Digite un numero: 3\n",
            "Digite un numero: 3\n",
            "La suma de la lista da: [27.0]\n"
          ]
        }
      ]
    },
    {
      "cell_type": "code",
      "source": [
        "#Taller 7\n",
        "c=float(input(\"Digite un numero: \"))\n",
        "b=float(input(\"Digite un numero: \"))\n",
        "a=float(input(\"Digite un numero: \"))\n",
        "i=float(input(\"Digite un numero: \"))\n",
        "list=[c,b,a,i]\n",
        "def sumarl(A):\n",
        "  E=[c*b*a*i]\n",
        "  print(f\"La multiplicación de la lista da: {E}\")\n",
        "\n",
        "sumarl(list)"
      ],
      "metadata": {
        "id": "1XFCYnlplky3"
      },
      "execution_count": null,
      "outputs": []
    },
    {
      "cell_type": "code",
      "source": [
        "#Taller 8\n",
        "c=int(input(\"Ingresa la cantida de numeros: \"))\n",
        "def sumarl(A):\n",
        "  lista=[]\n",
        "  S=13\n",
        "  for i in range(0,A):\n",
        "    replica=int(input(\"Ingresa la cantida de numeros: \"))\n",
        "    lista.append(replica)\n",
        "    S=S*lista[i]\n",
        "    print(lista)\n",
        "  print(\"Da el resultado\", S)\n",
        "sumarl(c)\n",
        "\n"
      ],
      "metadata": {
        "id": "NKqE33zHqXO8"
      },
      "execution_count": null,
      "outputs": []
    },
    {
      "cell_type": "code",
      "source": [
        "#Taller 9\n",
        "str= \"gay el que lo lea\"\n",
        "\n",
        "cambio=len(str)\n",
        "\n",
        "cambio1=str[cambio::-1] \n",
        "print (\"Tu palabra al revez es:\",cambio1)"
      ],
      "metadata": {
        "colab": {
          "base_uri": "https://localhost:8080/"
        },
        "id": "K2f2CO0MoFJN",
        "outputId": "a860fd72-2262-4af0-dfa3-076fad6e6620"
      },
      "execution_count": null,
      "outputs": [
        {
          "output_type": "stream",
          "name": "stdout",
          "text": [
            "Tu palabra al revez es: ael ol euq le yag\n"
          ]
        }
      ]
    },
    {
      "cell_type": "code",
      "source": [
        "F=(input(\"Pon una frase: \"))\n",
        "F1=len(F)\n",
        "F2=F[F1::-1]\n",
        "print(f\"La frase quedo:{F}\")\n",
        "print(f\"La frase al revez es:{F2}\")"
      ],
      "metadata": {
        "colab": {
          "base_uri": "https://localhost:8080/"
        },
        "id": "nNqke3i7wtAN",
        "outputId": "61e34025-cd5f-461e-c28d-4c36f2ab94f1"
      },
      "execution_count": null,
      "outputs": [
        {
          "output_type": "stream",
          "name": "stdout",
          "text": [
            "Pon una frase: hola\n",
            "La frase quedo:hola\n",
            "La frase al revez es:aloh\n"
          ]
        }
      ]
    },
    {
      "cell_type": "code",
      "source": [
        "#Taller 10\n",
        "n=int(input(\"ingrese un numero\"))\n",
        "\n",
        "def factorial(n):\n",
        "  facto=1\n",
        "  for i in range(0,n):\n",
        "    facto= facto*(i+1)\n",
        "  print(facto)\n",
        "\n",
        "\n",
        "\n",
        "\n",
        "factorial(n)\n"
      ],
      "metadata": {
        "colab": {
          "base_uri": "https://localhost:8080/"
        },
        "id": "9YA4uM9zyDPP",
        "outputId": "b20f66b6-221c-4369-c734-4d48c121e393"
      },
      "execution_count": null,
      "outputs": [
        {
          "output_type": "stream",
          "name": "stdout",
          "text": [
            "ingrese un numero6\n",
            "720\n"
          ]
        }
      ]
    }
  ]
}