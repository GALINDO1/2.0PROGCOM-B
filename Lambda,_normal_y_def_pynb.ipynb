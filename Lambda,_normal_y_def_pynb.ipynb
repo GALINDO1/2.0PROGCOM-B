{
  "nbformat": 4,
  "nbformat_minor": 0,
  "metadata": {
    "colab": {
      "provenance": [],
      "authorship_tag": "ABX9TyPHAnnYPbLFOu3MmUW+sEj9",
      "include_colab_link": true
    },
    "kernelspec": {
      "name": "python3",
      "display_name": "Python 3"
    },
    "language_info": {
      "name": "python"
    }
  },
  "cells": [
    {
      "cell_type": "markdown",
      "metadata": {
        "id": "view-in-github",
        "colab_type": "text"
      },
      "source": [
        "<a href=\"https://colab.research.google.com/github/GALINDO1/2.0PROGCOM-B/blob/main/Lambda%2C_normal_y_def_pynb.ipynb\" target=\"_parent\"><img src=\"https://colab.research.google.com/assets/colab-badge.svg\" alt=\"Open In Colab\"/></a>"
      ]
    },
    {
      "cell_type": "code",
      "execution_count": 26,
      "metadata": {
        "colab": {
          "base_uri": "https://localhost:8080/"
        },
        "id": "mDCQQuVdXE6_",
        "outputId": "8150f073-27a9-4adb-fd65-4f90b00c5c7e"
      },
      "outputs": [
        {
          "output_type": "stream",
          "name": "stdout",
          "text": [
            "{'Andru': 32, 'David': 42, 'Sebas': 14} {'Andres': 12, 'Flowey': 43, 'Cata': 24, 'Karen': 23}\n"
          ]
        }
      ],
      "source": [
        "#normal\n",
        "from typing_extensions import DefaultDict\n",
        "import random\n",
        "cs = [\"Andru\",\"David\",\"Sebas\"] \n",
        "CS =[\"Andres\",\"Flowey\",\"Cata\",\"Karen\"]\n",
        "DD = {cs:random.randint(1,50) for cs in cs}\n",
        "DD1 = {CS:random.randint(1,50) for CS in CS}\n",
        "print(DD,DD1)"
      ]
    },
    {
      "cell_type": "code",
      "source": [
        "for x in CS:\n",
        "  print(CS)\n",
        "for x in cs:\n",
        "  print(cs)"
      ],
      "metadata": {
        "id": "B4XxRz6bXKPB"
      },
      "execution_count": null,
      "outputs": []
    },
    {
      "cell_type": "code",
      "source": [
        "#def\n",
        "from typing_extensions import DefaultDict\n",
        "import random\n",
        "def A ():\n",
        "  cs = [\"Andru\",\"David\",\"Sebas\"] \n",
        "  CS =[\"Andres\",\"Flowey\",\"Cata\",\"Karen\"]\n",
        "  DD = {cs:random.randint(1,50) for cs in cs}\n",
        "  DD1 ={CS:random.randint(1,50) for CS in CS}\n",
        "  return DD, DD1\n",
        "\n",
        "A()\n"
      ],
      "metadata": {
        "colab": {
          "base_uri": "https://localhost:8080/"
        },
        "id": "ffQtSiEUXU8R",
        "outputId": "a08b5831-2626-4e2d-9c6d-36c5ab236e86"
      },
      "execution_count": 28,
      "outputs": [
        {
          "output_type": "execute_result",
          "data": {
            "text/plain": [
              "({'Andru': 27, 'David': 42, 'Sebas': 50},\n",
              " {'Andres': 23, 'Flowey': 47, 'Cata': 11, 'Karen': 20})"
            ]
          },
          "metadata": {},
          "execution_count": 28
        }
      ]
    },
    {
      "cell_type": "code",
      "source": [
        "for x in CS:\n",
        "  print(CS)\n",
        "for x in cs:\n",
        "  print(cs)\n",
        "  "
      ],
      "metadata": {
        "id": "NSDiZuXcZ_C8"
      },
      "execution_count": null,
      "outputs": []
    },
    {
      "cell_type": "code",
      "source": [
        "#lambda\n",
        "from typing_extensions import DefaultDict\n",
        "import random\n",
        "cs =[\"Andru\",\"David\",\"Sebas\"] \n",
        "CS =[\"Andres\",\"Flowey\",\"Cata\",\"Karen\"]\n",
        "DD = (dict(map(lambda DD:(DD,random.randint(1,50)),cs)))\n",
        "DD1 = (dict(map(lambda DD1:(DD1,random.randint(1,50)),CS)))\n",
        "\n",
        "print(DD,DD1)"
      ],
      "metadata": {
        "colab": {
          "base_uri": "https://localhost:8080/"
        },
        "id": "j2bn-CcBZA2b",
        "outputId": "9aa5aae1-4a99-47bb-d444-f87875c13bbc"
      },
      "execution_count": 33,
      "outputs": [
        {
          "output_type": "stream",
          "name": "stdout",
          "text": [
            "{'Andru': 4, 'David': 1, 'Sebas': 13} {'Andres': 26, 'Flowey': 17, 'Cata': 1, 'Karen': 37}\n"
          ]
        }
      ]
    },
    {
      "cell_type": "code",
      "source": [
        "for X in CS:\n",
        "  print(CS)\n",
        "for X in cs:\n",
        "  print(cs)"
      ],
      "metadata": {
        "colab": {
          "base_uri": "https://localhost:8080/"
        },
        "id": "7mMYyupRi3ck",
        "outputId": "d86518f7-8416-465a-a5e9-7cd13dceda42"
      },
      "execution_count": 39,
      "outputs": [
        {
          "output_type": "stream",
          "name": "stdout",
          "text": [
            "['Andres', 'Flowey', 'Cata', 'Karen']\n",
            "['Andres', 'Flowey', 'Cata', 'Karen']\n",
            "['Andres', 'Flowey', 'Cata', 'Karen']\n",
            "['Andres', 'Flowey', 'Cata', 'Karen']\n",
            "['Andru', 'David', 'Sebas']\n",
            "['Andru', 'David', 'Sebas']\n",
            "['Andru', 'David', 'Sebas']\n"
          ]
        }
      ]
    }
  ]
}